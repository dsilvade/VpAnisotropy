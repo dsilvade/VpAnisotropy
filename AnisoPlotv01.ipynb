{
 "cells": [
  {
   "cell_type": "code",
   "execution_count": 1,
   "metadata": {},
   "outputs": [
    {
     "name": "stdout",
     "output_type": "stream",
     "text": [
      "Requirement already satisfied: xlrd in /srv/conda/envs/notebook/lib/python3.7/site-packages (2.0.1)\n",
      "Note: you may need to restart the kernel to use updated packages.\n",
      "Requirement already satisfied: matplotlib in /srv/conda/envs/notebook/lib/python3.7/site-packages (3.3.4)\n",
      "Requirement already satisfied: pyparsing!=2.0.4,!=2.1.2,!=2.1.6,>=2.0.3 in /srv/conda/envs/notebook/lib/python3.7/site-packages (from matplotlib) (2.4.7)\n",
      "Requirement already satisfied: cycler>=0.10 in /srv/conda/envs/notebook/lib/python3.7/site-packages (from matplotlib) (0.10.0)\n",
      "Requirement already satisfied: python-dateutil>=2.1 in /srv/conda/envs/notebook/lib/python3.7/site-packages (from matplotlib) (2.8.1)\n",
      "Requirement already satisfied: kiwisolver>=1.0.1 in /srv/conda/envs/notebook/lib/python3.7/site-packages (from matplotlib) (1.3.1)\n",
      "Requirement already satisfied: numpy>=1.15 in /srv/conda/envs/notebook/lib/python3.7/site-packages (from matplotlib) (1.20.1)\n",
      "Requirement already satisfied: pillow>=6.2.0 in /srv/conda/envs/notebook/lib/python3.7/site-packages (from matplotlib) (8.1.0)\n",
      "Requirement already satisfied: six in /srv/conda/envs/notebook/lib/python3.7/site-packages (from cycler>=0.10->matplotlib) (1.15.0)\n",
      "Note: you may need to restart the kernel to use updated packages.\n",
      "Requirement already satisfied: seaborn in /srv/conda/envs/notebook/lib/python3.7/site-packages (0.11.1)\n",
      "Requirement already satisfied: matplotlib>=2.2 in /srv/conda/envs/notebook/lib/python3.7/site-packages (from seaborn) (3.3.4)\n",
      "Requirement already satisfied: numpy>=1.15 in /srv/conda/envs/notebook/lib/python3.7/site-packages (from seaborn) (1.20.1)\n",
      "Requirement already satisfied: scipy>=1.0 in /srv/conda/envs/notebook/lib/python3.7/site-packages (from seaborn) (1.6.1)\n",
      "Requirement already satisfied: pandas>=0.23 in /srv/conda/envs/notebook/lib/python3.7/site-packages (from seaborn) (1.2.2)\n",
      "Requirement already satisfied: cycler>=0.10 in /srv/conda/envs/notebook/lib/python3.7/site-packages (from matplotlib>=2.2->seaborn) (0.10.0)\n",
      "Requirement already satisfied: kiwisolver>=1.0.1 in /srv/conda/envs/notebook/lib/python3.7/site-packages (from matplotlib>=2.2->seaborn) (1.3.1)\n",
      "Requirement already satisfied: python-dateutil>=2.1 in /srv/conda/envs/notebook/lib/python3.7/site-packages (from matplotlib>=2.2->seaborn) (2.8.1)\n",
      "Requirement already satisfied: pyparsing!=2.0.4,!=2.1.2,!=2.1.6,>=2.0.3 in /srv/conda/envs/notebook/lib/python3.7/site-packages (from matplotlib>=2.2->seaborn) (2.4.7)\n",
      "Requirement already satisfied: pillow>=6.2.0 in /srv/conda/envs/notebook/lib/python3.7/site-packages (from matplotlib>=2.2->seaborn) (8.1.0)\n",
      "Requirement already satisfied: six in /srv/conda/envs/notebook/lib/python3.7/site-packages (from cycler>=0.10->matplotlib>=2.2->seaborn) (1.15.0)\n",
      "Requirement already satisfied: pytz>=2017.3 in /srv/conda/envs/notebook/lib/python3.7/site-packages (from pandas>=0.23->seaborn) (2021.1)\n",
      "Note: you may need to restart the kernel to use updated packages.\n",
      "Requirement already satisfied: pandas in /srv/conda/envs/notebook/lib/python3.7/site-packages (1.2.2)\n",
      "Requirement already satisfied: python-dateutil>=2.7.3 in /srv/conda/envs/notebook/lib/python3.7/site-packages (from pandas) (2.8.1)\n",
      "Requirement already satisfied: pytz>=2017.3 in /srv/conda/envs/notebook/lib/python3.7/site-packages (from pandas) (2021.1)\n",
      "Requirement already satisfied: numpy>=1.16.5 in /srv/conda/envs/notebook/lib/python3.7/site-packages (from pandas) (1.20.1)\n",
      "Requirement already satisfied: six>=1.5 in /srv/conda/envs/notebook/lib/python3.7/site-packages (from python-dateutil>=2.7.3->pandas) (1.15.0)\n",
      "Note: you may need to restart the kernel to use updated packages.\n"
     ]
    }
   ],
   "source": [
    "%pip install xlrd\n",
    "%pip install matplotlib\n",
    "%pip install seaborn\n",
    "%pip install --upgrade pandas\n",
    "from ipywidgets import interactive, fixed\n",
    "\n",
    "import matplotlib.pyplot as plt\n",
    "import numpy as np\n",
    "import pandas as pd\n",
    "import seaborn as sns\n",
    "import timeit"
   ]
  },
  {
   "cell_type": "code",
   "execution_count": 2,
   "metadata": {},
   "outputs": [
    {
     "name": "stdout",
     "output_type": "stream",
     "text": [
      "seaborn==0.11.1\n",
      "pandas==1.2.2\n",
      "numpy==1.20.1\n",
      "matplotlib==3.3.4\n",
      "ipywidgets==7.6.3\n"
     ]
    }
   ],
   "source": [
    "import pkg_resources\n",
    "import types\n",
    "def get_imports():\n",
    "    for name, val in globals().items():\n",
    "        if isinstance(val, types.ModuleType):\n",
    "            # Split ensures you get root package, \n",
    "            # not just imported function\n",
    "            name = val.__name__.split(\".\")[0]\n",
    "\n",
    "        elif isinstance(val, type):\n",
    "            name = val.__module__.split(\".\")[0]\n",
    "\n",
    "        # Some packages are weird and have different\n",
    "        # imported names vs. system/pip names. Unfortunately,\n",
    "        # there is no systematic way to get pip names from\n",
    "        # a package's imported name. You'll have to add\n",
    "        # exceptions to this list manually!\n",
    "        poorly_named_packages = {\n",
    "            \"PIL\": \"Pillow\",\n",
    "            \"sklearn\": \"scikit-learn\"\n",
    "        }\n",
    "        if name in poorly_named_packages.keys():\n",
    "            name = poorly_named_packages[name]\n",
    "\n",
    "        yield name\n",
    "imports = list(set(get_imports()))\n",
    "\n",
    "# The only way I found to get the version of the root package\n",
    "# from only the name of the package is to cross-check the names \n",
    "# of installed packages vs. imported packages\n",
    "requirements = []\n",
    "for m in pkg_resources.working_set:\n",
    "    if m.project_name in imports and m.project_name!=\"pip\":\n",
    "        requirements.append((m.project_name, m.version))\n",
    "\n",
    "for r in requirements:\n",
    "    print(\"{}=={}\".format(*r))\n"
   ]
  },
  {
   "cell_type": "code",
   "execution_count": 3,
   "metadata": {},
   "outputs": [],
   "source": [
    "df = pd.read_csv(\"1997_Vernik_Liu_AppendixA.csv\")"
   ]
  },
  {
   "cell_type": "code",
   "execution_count": 4,
   "metadata": {},
   "outputs": [
    {
     "data": {
      "text/html": [
       "<div>\n",
       "<style scoped>\n",
       "    .dataframe tbody tr th:only-of-type {\n",
       "        vertical-align: middle;\n",
       "    }\n",
       "\n",
       "    .dataframe tbody tr th {\n",
       "        vertical-align: top;\n",
       "    }\n",
       "\n",
       "    .dataframe thead th {\n",
       "        text-align: right;\n",
       "    }\n",
       "</style>\n",
       "<table border=\"1\" class=\"dataframe\">\n",
       "  <thead>\n",
       "    <tr style=\"text-align: right;\">\n",
       "      <th></th>\n",
       "      <th>form</th>\n",
       "      <th>depth_ft</th>\n",
       "      <th>depth_m</th>\n",
       "      <th>por</th>\n",
       "      <th>b_den</th>\n",
       "      <th>ker</th>\n",
       "      <th>vp0</th>\n",
       "      <th>vp90</th>\n",
       "      <th>vs0</th>\n",
       "      <th>vs90</th>\n",
       "      <th>eps</th>\n",
       "      <th>gam</th>\n",
       "      <th>del</th>\n",
       "    </tr>\n",
       "  </thead>\n",
       "  <tbody>\n",
       "    <tr>\n",
       "      <th>0</th>\n",
       "      <td>Bakken</td>\n",
       "      <td>7570</td>\n",
       "      <td>2307</td>\n",
       "      <td>1.97</td>\n",
       "      <td>2.09</td>\n",
       "      <td>0.423</td>\n",
       "      <td>3.13</td>\n",
       "      <td>3.94</td>\n",
       "      <td>1.88</td>\n",
       "      <td>2.30</td>\n",
       "      <td>0.29</td>\n",
       "      <td>0.25</td>\n",
       "      <td>NaN</td>\n",
       "    </tr>\n",
       "    <tr>\n",
       "      <th>1</th>\n",
       "      <td>Bakken</td>\n",
       "      <td>8630</td>\n",
       "      <td>2630</td>\n",
       "      <td>0.70</td>\n",
       "      <td>1.99</td>\n",
       "      <td>0.500</td>\n",
       "      <td>NaN</td>\n",
       "      <td>3.93</td>\n",
       "      <td>NaN</td>\n",
       "      <td>2.31</td>\n",
       "      <td>NaN</td>\n",
       "      <td>NaN</td>\n",
       "      <td>NaN</td>\n",
       "    </tr>\n",
       "    <tr>\n",
       "      <th>2</th>\n",
       "      <td>Bakken</td>\n",
       "      <td>8634</td>\n",
       "      <td>2632</td>\n",
       "      <td>0.65</td>\n",
       "      <td>2.06</td>\n",
       "      <td>0.409</td>\n",
       "      <td>3.02</td>\n",
       "      <td>4.14</td>\n",
       "      <td>1.76</td>\n",
       "      <td>2.50</td>\n",
       "      <td>0.44</td>\n",
       "      <td>0.51</td>\n",
       "      <td>0.03</td>\n",
       "    </tr>\n",
       "    <tr>\n",
       "      <th>3</th>\n",
       "      <td>Bakken</td>\n",
       "      <td>9831</td>\n",
       "      <td>2996</td>\n",
       "      <td>0.70</td>\n",
       "      <td>2.21</td>\n",
       "      <td>0.272</td>\n",
       "      <td>3.41</td>\n",
       "      <td>4.16</td>\n",
       "      <td>2.07</td>\n",
       "      <td>2.51</td>\n",
       "      <td>0.24</td>\n",
       "      <td>0.24</td>\n",
       "      <td>0.12</td>\n",
       "    </tr>\n",
       "    <tr>\n",
       "      <th>4</th>\n",
       "      <td>Bakken</td>\n",
       "      <td>10164</td>\n",
       "      <td>3098</td>\n",
       "      <td>0.68</td>\n",
       "      <td>2.22</td>\n",
       "      <td>0.323</td>\n",
       "      <td>3.38</td>\n",
       "      <td>4.19</td>\n",
       "      <td>2.12</td>\n",
       "      <td>2.57</td>\n",
       "      <td>0.27</td>\n",
       "      <td>0.23</td>\n",
       "      <td>0.04</td>\n",
       "    </tr>\n",
       "  </tbody>\n",
       "</table>\n",
       "</div>"
      ],
      "text/plain": [
       "     form  depth_ft  depth_m   por  b_den    ker   vp0  vp90   vs0  vs90  \\\n",
       "0  Bakken      7570     2307  1.97   2.09  0.423  3.13  3.94  1.88  2.30   \n",
       "1  Bakken      8630     2630  0.70   1.99  0.500   NaN  3.93   NaN  2.31   \n",
       "2  Bakken      8634     2632  0.65   2.06  0.409  3.02  4.14  1.76  2.50   \n",
       "3  Bakken      9831     2996  0.70   2.21  0.272  3.41  4.16  2.07  2.51   \n",
       "4  Bakken     10164     3098  0.68   2.22  0.323  3.38  4.19  2.12  2.57   \n",
       "\n",
       "    eps   gam   del  \n",
       "0  0.29  0.25   NaN  \n",
       "1   NaN   NaN   NaN  \n",
       "2  0.44  0.51  0.03  \n",
       "3  0.24  0.24  0.12  \n",
       "4  0.27  0.23  0.04  "
      ]
     },
     "execution_count": 4,
     "metadata": {},
     "output_type": "execute_result"
    }
   ],
   "source": [
    "df.head()"
   ]
  },
  {
   "cell_type": "code",
   "execution_count": 5,
   "metadata": {},
   "outputs": [],
   "source": [
    "df = df[df['eps'].notna()]"
   ]
  },
  {
   "cell_type": "code",
   "execution_count": 6,
   "metadata": {},
   "outputs": [
    {
     "data": {
      "text/html": [
       "<div>\n",
       "<style scoped>\n",
       "    .dataframe tbody tr th:only-of-type {\n",
       "        vertical-align: middle;\n",
       "    }\n",
       "\n",
       "    .dataframe tbody tr th {\n",
       "        vertical-align: top;\n",
       "    }\n",
       "\n",
       "    .dataframe thead th {\n",
       "        text-align: right;\n",
       "    }\n",
       "</style>\n",
       "<table border=\"1\" class=\"dataframe\">\n",
       "  <thead>\n",
       "    <tr style=\"text-align: right;\">\n",
       "      <th></th>\n",
       "      <th>form</th>\n",
       "      <th>depth_ft</th>\n",
       "      <th>depth_m</th>\n",
       "      <th>por</th>\n",
       "      <th>b_den</th>\n",
       "      <th>ker</th>\n",
       "      <th>vp0</th>\n",
       "      <th>vp90</th>\n",
       "      <th>vs0</th>\n",
       "      <th>vs90</th>\n",
       "      <th>eps</th>\n",
       "      <th>gam</th>\n",
       "      <th>del</th>\n",
       "    </tr>\n",
       "  </thead>\n",
       "  <tbody>\n",
       "    <tr>\n",
       "      <th>0</th>\n",
       "      <td>Bakken</td>\n",
       "      <td>7570</td>\n",
       "      <td>2307</td>\n",
       "      <td>1.97</td>\n",
       "      <td>2.09</td>\n",
       "      <td>0.423</td>\n",
       "      <td>3.13</td>\n",
       "      <td>3.94</td>\n",
       "      <td>1.88</td>\n",
       "      <td>2.30</td>\n",
       "      <td>0.29</td>\n",
       "      <td>0.25</td>\n",
       "      <td>NaN</td>\n",
       "    </tr>\n",
       "    <tr>\n",
       "      <th>2</th>\n",
       "      <td>Bakken</td>\n",
       "      <td>8634</td>\n",
       "      <td>2632</td>\n",
       "      <td>0.65</td>\n",
       "      <td>2.06</td>\n",
       "      <td>0.409</td>\n",
       "      <td>3.02</td>\n",
       "      <td>4.14</td>\n",
       "      <td>1.76</td>\n",
       "      <td>2.50</td>\n",
       "      <td>0.44</td>\n",
       "      <td>0.51</td>\n",
       "      <td>0.03</td>\n",
       "    </tr>\n",
       "    <tr>\n",
       "      <th>3</th>\n",
       "      <td>Bakken</td>\n",
       "      <td>9831</td>\n",
       "      <td>2996</td>\n",
       "      <td>0.70</td>\n",
       "      <td>2.21</td>\n",
       "      <td>0.272</td>\n",
       "      <td>3.41</td>\n",
       "      <td>4.16</td>\n",
       "      <td>2.07</td>\n",
       "      <td>2.51</td>\n",
       "      <td>0.24</td>\n",
       "      <td>0.24</td>\n",
       "      <td>0.12</td>\n",
       "    </tr>\n",
       "    <tr>\n",
       "      <th>4</th>\n",
       "      <td>Bakken</td>\n",
       "      <td>10164</td>\n",
       "      <td>3098</td>\n",
       "      <td>0.68</td>\n",
       "      <td>2.22</td>\n",
       "      <td>0.323</td>\n",
       "      <td>3.38</td>\n",
       "      <td>4.19</td>\n",
       "      <td>2.12</td>\n",
       "      <td>2.57</td>\n",
       "      <td>0.27</td>\n",
       "      <td>0.23</td>\n",
       "      <td>0.04</td>\n",
       "    </tr>\n",
       "    <tr>\n",
       "      <th>5</th>\n",
       "      <td>Bakken</td>\n",
       "      <td>10487</td>\n",
       "      <td>3196</td>\n",
       "      <td>0.70</td>\n",
       "      <td>2.18</td>\n",
       "      <td>0.404</td>\n",
       "      <td>3.18</td>\n",
       "      <td>4.20</td>\n",
       "      <td>1.93</td>\n",
       "      <td>2.51</td>\n",
       "      <td>0.37</td>\n",
       "      <td>0.35</td>\n",
       "      <td>NaN</td>\n",
       "    </tr>\n",
       "  </tbody>\n",
       "</table>\n",
       "</div>"
      ],
      "text/plain": [
       "     form  depth_ft  depth_m   por  b_den    ker   vp0  vp90   vs0  vs90  \\\n",
       "0  Bakken      7570     2307  1.97   2.09  0.423  3.13  3.94  1.88  2.30   \n",
       "2  Bakken      8634     2632  0.65   2.06  0.409  3.02  4.14  1.76  2.50   \n",
       "3  Bakken      9831     2996  0.70   2.21  0.272  3.41  4.16  2.07  2.51   \n",
       "4  Bakken     10164     3098  0.68   2.22  0.323  3.38  4.19  2.12  2.57   \n",
       "5  Bakken     10487     3196  0.70   2.18  0.404  3.18  4.20  1.93  2.51   \n",
       "\n",
       "    eps   gam   del  \n",
       "0  0.29  0.25   NaN  \n",
       "2  0.44  0.51  0.03  \n",
       "3  0.24  0.24  0.12  \n",
       "4  0.27  0.23  0.04  \n",
       "5  0.37  0.35   NaN  "
      ]
     },
     "execution_count": 6,
     "metadata": {},
     "output_type": "execute_result"
    }
   ],
   "source": [
    "df.head()"
   ]
  },
  {
   "cell_type": "code",
   "execution_count": 7,
   "metadata": {},
   "outputs": [
    {
     "data": {
      "text/plain": [
       "<AxesSubplot:>"
      ]
     },
     "execution_count": 7,
     "metadata": {},
     "output_type": "execute_result"
    },
    {
     "data": {
      "image/png": "[encoded data removed]",
      "text/plain": [
       "<Figure size 432x432 with 2 Axes>"
      ]
     },
     "metadata": {
      "needs_background": "light"
     },
     "output_type": "display_data"
    }
   ],
   "source": [
    "plt.figure(figsize=(6,6))\n",
    "sns.heatmap(df[[\"depth_m\",\"vp0\",\"eps\"]].corr(),annot=True)"
   ]
  },
  {
   "cell_type": "code",
   "execution_count": 8,
   "metadata": {},
   "outputs": [
    {
     "data": {
      "text/plain": [
       "<AxesSubplot:xlabel='vp0', ylabel='eps'>"
      ]
     },
     "execution_count": 8,
     "metadata": {},
     "output_type": "execute_result"
    },
    {
     "data": {
      "image/png": "[encoded data removed]",
      "text/plain": [
       "<Figure size 432x432 with 1 Axes>"
      ]
     },
     "metadata": {
      "needs_background": "light"
     },
     "output_type": "display_data"
    }
   ],
   "source": [
    "plt.figure(figsize=(6,6))\n",
    "sns.scatterplot(x=\"vp0\",y=\"eps\",data=df)"
   ]
  },
  {
   "cell_type": "code",
   "execution_count": 9,
   "metadata": {},
   "outputs": [],
   "source": [
    "from scipy.optimize import curve_fit\n",
    "\n",
    "def power_law(x, a, b ):\n",
    "    return a * np.power(x, -b) "
   ]
  },
  {
   "cell_type": "code",
   "execution_count": 10,
   "metadata": {},
   "outputs": [
    {
     "name": "stdout",
     "output_type": "stream",
     "text": [
      "[0.76274678 0.90500818]\n"
     ]
    }
   ],
   "source": [
    "popt , pcov = curve_fit( power_law , df.vp0 , df.eps )\n",
    "print(popt)"
   ]
  },
  {
   "cell_type": "code",
   "execution_count": 11,
   "metadata": {},
   "outputs": [
    {
     "data": {
      "text/plain": [
       "[<matplotlib.lines.Line2D at 0x7fde6110ec90>]"
      ]
     },
     "execution_count": 11,
     "metadata": {},
     "output_type": "execute_result"
    },
    {
     "data": {
      "image/png": "[encoded data removed]",
      "text/plain": [
       "<Figure size 432x432 with 1 Axes>"
      ]
     },
     "metadata": {
      "needs_background": "light"
     },
     "output_type": "display_data"
    }
   ],
   "source": [
    "plt.figure(figsize=(6,6))\n",
    "sns.scatterplot(x=\"vp0\",y=\"eps\",data=df)\n",
    "x_fit = [2.5+x*0.05 for x in range(0,70)]\n",
    "plt.plot(x_fit,power_law(x_fit,popt[0],popt[1]), '--',\n",
    "        color = 'k',\n",
    "        linewidth = 2)"
   ]
  },
  {
   "cell_type": "code",
   "execution_count": 12,
   "metadata": {},
   "outputs": [
    {
     "name": "stdout",
     "output_type": "stream",
     "text": [
      "0.01440527937363546\n"
     ]
    }
   ],
   "source": [
    "print (np.mean((df.eps-power_law(df.vp0, *popt))**2))\n"
   ]
  },
  {
   "cell_type": "code",
   "execution_count": null,
   "metadata": {},
   "outputs": [],
   "source": []
  },
  {
   "cell_type": "code",
   "execution_count": 13,
   "metadata": {},
   "outputs": [],
   "source": [
    "from scipy.optimize import curve_fit\n",
    "\n",
    "def power_law3d(x, a, b , c ):\n",
    "    return a * np.power(x[0], b) * np.power(x[1], c) "
   ]
  },
  {
   "cell_type": "code",
   "execution_count": 14,
   "metadata": {},
   "outputs": [
    {
     "name": "stdout",
     "output_type": "stream",
     "text": [
      "[ 0.01029597 -1.94014529  0.72611043]\n"
     ]
    }
   ],
   "source": [
    "popt3d , pcov3d = curve_fit( power_law3d , [df.vp0,df.depth_m] , df.eps )\n",
    "print(popt3d)"
   ]
  },
  {
   "cell_type": "code",
   "execution_count": 15,
   "metadata": {},
   "outputs": [
    {
     "name": "stdout",
     "output_type": "stream",
     "text": [
      "0.008424590796600349\n"
     ]
    }
   ],
   "source": [
    "print (np.mean((df.eps-power_law3d([df.vp0,df.depth_m], *popt3d))**2))\n"
   ]
  },
  {
   "cell_type": "code",
   "execution_count": 16,
   "metadata": {},
   "outputs": [
    {
     "data": {
      "image/png": "[encoded data removed]",
      "text/plain": [
       "<Figure size 720x720 with 1 Axes>"
      ]
     },
     "metadata": {
      "needs_background": "light"
     },
     "output_type": "display_data"
    }
   ],
   "source": [
    "x_fit3d = [2.5+x*0.05 for x in range(0,70)]\n",
    "y_fit3d = [    y*75   for y in range(0,70)]\n",
    "x_fit3d , y_fit3d = np.meshgrid( x_fit3d , y_fit3d )\n",
    "\n",
    "fig = plt.figure(figsize=(10,10))\n",
    "ax = fig.gca(projection='3d')\n",
    "\n",
    "ax.set_xlabel('$v_{p0}$')\n",
    "ax.set_ylabel('Depth')\n",
    "ax.set_zlabel('$\\epsilon$')\n",
    "ax.scatter(df[\"vp0\"],df[\"depth_m\"],df[\"eps\"] , color = 'k')\n",
    "\n",
    "surf = ax.plot_wireframe(x_fit3d, y_fit3d, power_law3d([x_fit3d, y_fit3d] , *popt3d))\n",
    "ax.view_init(5, 65)"
   ]
  }
 ],
 "metadata": {
  "kernelspec": {
   "display_name": "Python 3",
   "language": "python",
   "name": "python3"
  },
  "language_info": {
   "codemirror_mode": {
    "name": "ipython",
    "version": 3
   },
   "file_extension": ".py",
   "mimetype": "text/x-python",
   "name": "python",
   "nbconvert_exporter": "python",
   "pygments_lexer": "ipython3",
   "version": "3.7.9"
  }
 },
 "nbformat": 4,
 "nbformat_minor": 4
}
