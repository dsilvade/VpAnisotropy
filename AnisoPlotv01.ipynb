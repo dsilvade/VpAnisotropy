%matplotlib inline
%pip install xlrd
%pip install --upgrade pandas
from ipywidgets import interactive, fixed

import matplotlib.pyplot as plt
import numpy as np
import pandas as pd
import seaborn as sns
import timeit
